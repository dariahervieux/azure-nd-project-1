{
 "cells": [
  {
   "cell_type": "code",
   "execution_count": null,
   "metadata": {
    "gather": {
     "logged": 1598275788035
    }
   },
   "outputs": [],
   "source": [
    "from azureml.core import Workspace, Experiment\n",
    "\n",
    "ws = Workspace.get(name=\"quick-starts-ws-124780\")\n",
    "exp = Experiment(workspace=ws, name=\"udacity-project\")\n",
    "\n",
    "print('Workspace name: ' + ws.name, \n",
    "      'Azure region: ' + ws.location, \n",
    "      'Subscription id: ' + ws.subscription_id, \n",
    "      'Resource group: ' + ws.resource_group, sep = '\\n')\n",
    "\n",
    "run = exp.start_logging()"
   ]
  },
  {
   "cell_type": "code",
   "execution_count": null,
   "metadata": {
    "gather": {
     "logged": 1598275788675
    },
    "jupyter": {
     "outputs_hidden": false,
     "source_hidden": false
    },
    "nteract": {
     "transient": {
      "deleting": false
     }
    }
   },
   "outputs": [],
   "source": [
    "from azureml.core.compute import ComputeTarget, AmlCompute\n",
    "from azureml.core.compute_target import ComputeTargetException\n",
    "\n",
    "# Create compute cluster\n",
    "cluster_name = \"u-proj-cluster\" # name between 2 and 16 symbols\n",
    "try:\n",
    "    # if cluster exists, get the reference to it\n",
    "    compute_target = ComputeTarget(workspace=ws, name=cluster_name)\n",
    "    print('Found existing compute target')\n",
    "except ComputeTargetException:\n",
    "    print('Creating a new compute target...')\n",
    "    compute_config = AmlCompute.provisioning_configuration(vm_size='Standard_D2_V2', \n",
    "                                                           max_nodes=4)\n",
    "    # create the cluster\n",
    "    compute_target = ComputeTarget.create(ws, cluster_name, compute_config)\n",
    "\n",
    "    compute_target.wait_for_completion(show_output=True, min_node_count=None, timeout_in_minutes=20)\n",
    "\n",
    "#  get a detailed status for the current cluster. \n",
    "print(compute_target.get_status().serialize())\n"
   ]
  },
  {
   "cell_type": "markdown",
   "metadata": {},
   "source": [
    "# Prepare data to register Datasets"
   ]
  },
  {
   "cell_type": "code",
   "execution_count": null,
   "metadata": {},
   "outputs": [],
   "source": [
    "# The data is related with direct marketing campaigns (phone calls) of a Portuguese banking institution.\n",
    "# The classification goal is to predict if the client will subscribe a term deposit (variable y).\n",
    "web_path ='https://automlsamplenotebookdata.blob.core.windows.net/automl-sample-notebook-data/bankmarketing_train.csv'\n",
    "\n"
   ]
  },
  {
   "cell_type": "markdown",
   "metadata": {},
   "source": [
    "## Register original dataset "
   ]
  },
  {
   "cell_type": "code",
   "execution_count": null,
   "metadata": {},
   "outputs": [],
   "source": [
    "from azureml.data.dataset_factory import TabularDatasetFactory\n",
    "\n",
    "# Try to load the dataset from the Workspace first\n",
    "found = False\n",
    "ds_key = \"bankmarketing-ds\"\n",
    "description_text = \"Direct marketing campaigns of a Portuguese banking institution.\"\n",
    "\n",
    "if ds_key in ws.datasets.keys(): \n",
    "    found = True\n",
    "    ds = ws.datasets[ds_key] \n",
    "\n",
    "# Otherwise, create it from web csv file\n",
    "if not found:\n",
    "    # Create TabularDataset from web path\n",
    "    ds = TabularDatasetFactory.from_delimited_files(path=web_path)\n",
    "        \n",
    "    #Register Dataset in the Workspace\n",
    "    ds = ds.register(workspace=ws,\n",
    "                     name=ds_key,\n",
    "                     description=description_text)"
   ]
  },
  {
   "cell_type": "markdown",
   "metadata": {},
   "source": [
    "## Register cleaned dataset"
   ]
  },
  {
   "cell_type": "code",
   "execution_count": null,
   "metadata": {},
   "outputs": [],
   "source": [
    "from train import clean_data\n",
    "\n",
    "def get_cleaned_dataset():\n",
    "    found = False\n",
    "    ds_key = \"bankmarketing-cleaned-ds\"\n",
    "    description_text = \"Cleaned data of direct marketing campaigns of a Portuguese banking institution.\"\n",
    "\n",
    "    if ds_key in ws.datasets.keys(): \n",
    "        found = True\n",
    "        ds_cleaned = ws.datasets[ds_key] \n",
    "\n",
    "    # Otherwise, create it from the file\n",
    "    if not found:\n",
    "        cleaned_data = clean_data(ds.to_pandas_dataframe())\n",
    "        exported_df = 'cleaned-df.parquet'\n",
    "        cleaned_data.to_parquet(exported_df);\n",
    "        # Register Dataset in Workspace using experimental funcionality to upload and register pandas dataframe at once\n",
    "        ds_cleaned = TabularDatasetFactory.register_pandas_dataframe(dataframe=cleaned_data,\n",
    "                                                                     target=(ws.get_default_datastore(), exported_df),\n",
    "                                                                     name=ds_key, description=description_text,\n",
    "                                                                     show_progress=True)\n",
    "    return ds_cleaned\n"
   ]
  },
  {
   "cell_type": "code",
   "execution_count": null,
   "metadata": {},
   "outputs": [],
   "source": [
    "ds_cleaned = get_cleaned_dataset()"
   ]
  },
  {
   "cell_type": "markdown",
   "metadata": {},
   "source": [
    "# HyperDrive run"
   ]
  },
  {
   "cell_type": "code",
   "execution_count": null,
   "metadata": {
    "gather": {
     "logged": 1598275789986
    },
    "jupyter": {
     "outputs_hidden": false,
     "source_hidden": false
    },
    "nteract": {
     "transient": {
      "deleting": false
     }
    }
   },
   "outputs": [],
   "source": [
    "from azureml.train.sklearn import SKLearn\n",
    "from azureml.train.hyperdrive.run import PrimaryMetricGoal\n",
    "from azureml.train.hyperdrive.policy import NoTerminationPolicy\n",
    "from azureml.train.hyperdrive.sampling import RandomParameterSampling\n",
    "from azureml.train.hyperdrive.runconfig import HyperDriveConfig\n",
    "from azureml.train.hyperdrive.parameter_expressions import loguniform # supported by RandomParameterSampling\n",
    "from azureml.train.hyperdrive.parameter_expressions import choice # supported by RandomParameterSampling\n",
    "import os\n",
    "import shutil\n",
    "\n",
    "# Parameter sampler for the HyperDrive\n",
    "ps = RandomParameterSampling(\n",
    "    {\n",
    "        '--C': loguniform(1, 6),# Inverse of regularization strength: uniform discribution exp(uniform(1, 6)) \n",
    "        '--max_iter': choice(100, 150, 200, 250, 300, 350), # Maximum number of iterations to converge\n",
    "    }\n",
    ")\n",
    "\n",
    "# No termination policy, since the job is not iterative (mertic is calculated only once)\n",
    "policy = NoTerminationPolicy()\n",
    "\n",
    "script_folder = './training'\n",
    "os.makedirs(script_folder, exist_ok=True)\n",
    "    \n",
    "# the training logic is in the train.py file.\n",
    "shutil.copy('./train.py', script_folder)\n",
    "\n",
    "# Create data consumption config for the Run, Dataset is consumed in 'direct' mode, \n",
    "dataset_consumption_cfg = ds_cleaned.as_named_input('dataset') \n",
    "\n",
    "# Create a SKLearn estimator for use with train.py\n",
    "est = SKLearn(source_directory=script_folder,\n",
    "              entry_script='train.py',\n",
    "              inputs = [dataset_consumption_cfg],\n",
    "              compute_target=compute_target)\n",
    "\n",
    "# Create a HyperDriveConfig using the estimator, hyperparameter sampler, and policy.\n",
    "hyperdrive_config = HyperDriveConfig(hyperparameter_sampling=ps,\n",
    "                                     policy=policy,\n",
    "                                     estimator=est,\n",
    "                                      #The name of the primary metric reported by the experiment runs.\n",
    "                                     primary_metric_name='Accuracy',\n",
    "                                     primary_metric_goal=PrimaryMetricGoal.MAXIMIZE,\n",
    "                                     max_total_runs = 20,\n",
    "                                     max_duration_minutes=30,\n",
    "                                     max_concurrent_runs=4) # 4 nodes\n",
    "\n"
   ]
  },
  {
   "cell_type": "code",
   "execution_count": null,
   "metadata": {
    "scrolled": true
   },
   "outputs": [],
   "source": [
    "from azureml.widgets import RunDetails\n",
    "# Submit your hyperdrive run to the experiment and show run details with the widget.\n",
    "\n",
    "hyperdrive_run = exp.submit(hyperdrive_config)\n",
    "RunDetails(hyperdrive_run).show()"
   ]
  },
  {
   "cell_type": "code",
   "execution_count": null,
   "metadata": {},
   "outputs": [],
   "source": [
    "# Waiting for the run to complete\n",
    "hyperdrive_run.wait_for_completion(show_output=True)"
   ]
  },
  {
   "cell_type": "code",
   "execution_count": null,
   "metadata": {
    "gather": {
     "logged": 1598276310862
    },
    "jupyter": {
     "outputs_hidden": false,
     "source_hidden": false
    },
    "nteract": {
     "transient": {
      "deleting": false
     }
    }
   },
   "outputs": [],
   "source": [
    "# Get the best run\n",
    "best_run = hyperdrive_run.get_best_run_by_primary_metric()\n",
    "print(best_run.get_details()['runDefinition']['arguments'])\n",
    "\n",
    "# Register the folder (and all files in it) as a model named 'best-model-hd' under the workspace,\n",
    "# the name of the model 'model.joblib' is fixed in train.py\n",
    "model_hd = best_run.register_model(model_name='best-model-hd', model_path='outputs/model.joblib')\n",
    "\n",
    "#Save the model locally\n",
    "model_hd.download(target_dir='./outputs', exist_ok=True)"
   ]
  },
  {
   "cell_type": "code",
   "execution_count": null,
   "metadata": {},
   "outputs": [],
   "source": []
  },
  {
   "cell_type": "markdown",
   "metadata": {},
   "source": [
    "# AutoML run"
   ]
  },
  {
   "cell_type": "code",
   "execution_count": null,
   "metadata": {},
   "outputs": [],
   "source": [
    "from azureml.data.dataset_factory import TabularDatasetFactory\n",
    "\n",
    "# Get registered cleaned dataset\n",
    "ds_cleaned = get_cleaned_dataset()\n"
   ]
  },
  {
   "cell_type": "code",
   "execution_count": null,
   "metadata": {
    "gather": {
     "logged": 1598275665403
    },
    "jupyter": {
     "outputs_hidden": false,
     "source_hidden": false
    },
    "nteract": {
     "transient": {
      "deleting": false
     }
    }
   },
   "outputs": [],
   "source": [
    "from azureml.train.automl import AutoMLConfig\n",
    "\n",
    "# Set parameters for AutoMLConfig\n",
    "automl_config = AutoMLConfig(\n",
    "    experiment_timeout_minutes=30,\n",
    "    task= \"classification\",\n",
    "    primary_metric=\"accuracy\",\n",
    "    training_data=ds_cleaned,\n",
    "    #featurization='auto',\n",
    "    label_column_name=\"y\",\n",
    "    n_cross_validations=5,\n",
    "    debug_log = \"automl_errors.log\",\n",
    "    enable_early_stopping= True,\n",
    "    compute_target=compute_target,)"
   ]
  },
  {
   "cell_type": "code",
   "execution_count": null,
   "metadata": {
    "jupyter": {
     "outputs_hidden": false,
     "source_hidden": false
    },
    "nteract": {
     "transient": {
      "deleting": false
     }
    }
   },
   "outputs": [],
   "source": [
    "# Create new experiment for AutoML\n",
    "exp_automl = Experiment(workspace=ws, name=\"automl-project\")\n",
    "# Submit AutoMLRun\n",
    "auto_ml_run = exp_automl.submit(automl_config, show_output=True)"
   ]
  },
  {
   "cell_type": "code",
   "execution_count": null,
   "metadata": {},
   "outputs": [],
   "source": [
    "from pprint import pprint #pretty printer\n",
    "\n",
    "\"\"\"Prints the pipeline step details of the model: details of each step and used estimators with their weights.\n",
    "   https://docs.microsoft.com/en-us/azure/machine-learning/how-to-configure-auto-features#scaling-and-normalization\n",
    "\"\"\"\n",
    "def print_model(model, prefix=\"\"):\n",
    "    for step in model.steps:\n",
    "        print(prefix + step[0])\n",
    "        if hasattr(step[1], 'estimators') and hasattr(step[1], 'weights'):\n",
    "            pprint({'estimators': list(\n",
    "                e[0] + ':' + e[1].steps[0][0] for e in step[1].estimators), 'weights': step[1].weights})\n",
    "            print()\n",
    "            for estimator in step[1].estimators:\n",
    "                print_model(estimator[1], estimator[0] + ' - ')\n",
    "        else:\n",
    "            pprint(step[1].get_params())\n",
    "            print()"
   ]
  },
  {
   "cell_type": "code",
   "execution_count": null,
   "metadata": {},
   "outputs": [],
   "source": [
    "# Retrieve and save your best automl model.\n",
    "\n",
    "# If no input parameters are provided, get_output of AutoMLRun returns the best pipeline according to the primary metric\n",
    "best_run, automl_model_pipeline = auto_ml_run.get_output()\n",
    "\n",
    "# Register the folder (and all files in it) as a model named 'best-model-hd' under the workspace,\n",
    "# the name of the model 'model.joblib' is fixed in train.py\n",
    "model_automl = best_run.register_model(model_name='best-model-automl', model_path='outputs/model.pkl')\n",
    "\n",
    "#Save the model locally\n",
    "model_automl.download(target_dir='./outputs', exist_ok=True)"
   ]
  },
  {
   "cell_type": "code",
   "execution_count": null,
   "metadata": {},
   "outputs": [],
   "source": [
    "print_model(automl_model_pipeline)"
   ]
  },
  {
   "cell_type": "markdown",
   "metadata": {},
   "source": [
    "# Clean Up"
   ]
  },
  {
   "cell_type": "code",
   "execution_count": null,
   "metadata": {},
   "outputs": [],
   "source": [
    "compute_target.delete()"
   ]
  }
 ],
 "metadata": {
  "kernel_info": {
   "name": "python3-azureml"
  },
  "kernelspec": {
   "display_name": "Python 3.6 - AzureML",
   "language": "python",
   "name": "python3-azureml"
  },
  "language_info": {
   "codemirror_mode": {
    "name": "ipython",
    "version": 3
   },
   "file_extension": ".py",
   "mimetype": "text/x-python",
   "name": "python",
   "nbconvert_exporter": "python",
   "pygments_lexer": "ipython3",
   "version": "3.6.9"
  },
  "nteract": {
   "version": "nteract-front-end@1.0.0"
  }
 },
 "nbformat": 4,
 "nbformat_minor": 2
}